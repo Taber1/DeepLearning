{
  "nbformat": 4,
  "nbformat_minor": 0,
  "metadata": {
    "colab": {
      "name": "Reuters.ipynb",
      "provenance": [],
      "collapsed_sections": []
    },
    "kernelspec": {
      "name": "python3",
      "display_name": "Python 3"
    }
  },
  "cells": [
    {
      "cell_type": "code",
      "metadata": {
        "id": "O4nCnpk33rm1",
        "colab_type": "code",
        "outputId": "8080030f-5ea5-4a86-80ff-11cbdcc46fe8",
        "colab": {
          "base_uri": "https://localhost:8080/",
          "height": 625
        }
      },
      "source": [
        "!pip install tensorflow --upgrade"
      ],
      "execution_count": 0,
      "outputs": [
        {
          "output_type": "stream",
          "text": [
            "Requirement already up-to-date: tensorflow in /usr/local/lib/python3.6/dist-packages (2.1.0)\n",
            "Requirement already satisfied, skipping upgrade: absl-py>=0.7.0 in /usr/local/lib/python3.6/dist-packages (from tensorflow) (0.9.0)\n",
            "Requirement already satisfied, skipping upgrade: astor>=0.6.0 in /usr/local/lib/python3.6/dist-packages (from tensorflow) (0.8.1)\n",
            "Requirement already satisfied, skipping upgrade: opt-einsum>=2.3.2 in /usr/local/lib/python3.6/dist-packages (from tensorflow) (3.1.0)\n",
            "Requirement already satisfied, skipping upgrade: protobuf>=3.8.0 in /usr/local/lib/python3.6/dist-packages (from tensorflow) (3.10.0)\n",
            "Requirement already satisfied, skipping upgrade: gast==0.2.2 in /usr/local/lib/python3.6/dist-packages (from tensorflow) (0.2.2)\n",
            "Requirement already satisfied, skipping upgrade: tensorboard<2.2.0,>=2.1.0 in /usr/local/lib/python3.6/dist-packages (from tensorflow) (2.1.0)\n",
            "Requirement already satisfied, skipping upgrade: grpcio>=1.8.6 in /usr/local/lib/python3.6/dist-packages (from tensorflow) (1.27.1)\n",
            "Requirement already satisfied, skipping upgrade: wheel>=0.26; python_version >= \"3\" in /usr/local/lib/python3.6/dist-packages (from tensorflow) (0.34.2)\n",
            "Requirement already satisfied, skipping upgrade: numpy<2.0,>=1.16.0 in /usr/local/lib/python3.6/dist-packages (from tensorflow) (1.17.5)\n",
            "Requirement already satisfied, skipping upgrade: scipy==1.4.1; python_version >= \"3\" in /usr/local/lib/python3.6/dist-packages (from tensorflow) (1.4.1)\n",
            "Requirement already satisfied, skipping upgrade: termcolor>=1.1.0 in /usr/local/lib/python3.6/dist-packages (from tensorflow) (1.1.0)\n",
            "Requirement already satisfied, skipping upgrade: google-pasta>=0.1.6 in /usr/local/lib/python3.6/dist-packages (from tensorflow) (0.1.8)\n",
            "Requirement already satisfied, skipping upgrade: six>=1.12.0 in /usr/local/lib/python3.6/dist-packages (from tensorflow) (1.12.0)\n",
            "Requirement already satisfied, skipping upgrade: keras-applications>=1.0.8 in /usr/local/lib/python3.6/dist-packages (from tensorflow) (1.0.8)\n",
            "Requirement already satisfied, skipping upgrade: keras-preprocessing>=1.1.0 in /usr/local/lib/python3.6/dist-packages (from tensorflow) (1.1.0)\n",
            "Requirement already satisfied, skipping upgrade: tensorflow-estimator<2.2.0,>=2.1.0rc0 in /usr/local/lib/python3.6/dist-packages (from tensorflow) (2.1.0)\n",
            "Requirement already satisfied, skipping upgrade: wrapt>=1.11.1 in /usr/local/lib/python3.6/dist-packages (from tensorflow) (1.11.2)\n",
            "Requirement already satisfied, skipping upgrade: setuptools in /usr/local/lib/python3.6/dist-packages (from protobuf>=3.8.0->tensorflow) (45.1.0)\n",
            "Requirement already satisfied, skipping upgrade: markdown>=2.6.8 in /usr/local/lib/python3.6/dist-packages (from tensorboard<2.2.0,>=2.1.0->tensorflow) (3.2.1)\n",
            "Requirement already satisfied, skipping upgrade: requests<3,>=2.21.0 in /usr/local/lib/python3.6/dist-packages (from tensorboard<2.2.0,>=2.1.0->tensorflow) (2.21.0)\n",
            "Requirement already satisfied, skipping upgrade: google-auth<2,>=1.6.3 in /usr/local/lib/python3.6/dist-packages (from tensorboard<2.2.0,>=2.1.0->tensorflow) (1.7.2)\n",
            "Requirement already satisfied, skipping upgrade: werkzeug>=0.11.15 in /usr/local/lib/python3.6/dist-packages (from tensorboard<2.2.0,>=2.1.0->tensorflow) (1.0.0)\n",
            "Requirement already satisfied, skipping upgrade: google-auth-oauthlib<0.5,>=0.4.1 in /usr/local/lib/python3.6/dist-packages (from tensorboard<2.2.0,>=2.1.0->tensorflow) (0.4.1)\n",
            "Requirement already satisfied, skipping upgrade: h5py in /usr/local/lib/python3.6/dist-packages (from keras-applications>=1.0.8->tensorflow) (2.8.0)\n",
            "Requirement already satisfied, skipping upgrade: urllib3<1.25,>=1.21.1 in /usr/local/lib/python3.6/dist-packages (from requests<3,>=2.21.0->tensorboard<2.2.0,>=2.1.0->tensorflow) (1.24.3)\n",
            "Requirement already satisfied, skipping upgrade: chardet<3.1.0,>=3.0.2 in /usr/local/lib/python3.6/dist-packages (from requests<3,>=2.21.0->tensorboard<2.2.0,>=2.1.0->tensorflow) (3.0.4)\n",
            "Requirement already satisfied, skipping upgrade: idna<2.9,>=2.5 in /usr/local/lib/python3.6/dist-packages (from requests<3,>=2.21.0->tensorboard<2.2.0,>=2.1.0->tensorflow) (2.8)\n",
            "Requirement already satisfied, skipping upgrade: certifi>=2017.4.17 in /usr/local/lib/python3.6/dist-packages (from requests<3,>=2.21.0->tensorboard<2.2.0,>=2.1.0->tensorflow) (2019.11.28)\n",
            "Requirement already satisfied, skipping upgrade: pyasn1-modules>=0.2.1 in /usr/local/lib/python3.6/dist-packages (from google-auth<2,>=1.6.3->tensorboard<2.2.0,>=2.1.0->tensorflow) (0.2.8)\n",
            "Requirement already satisfied, skipping upgrade: rsa<4.1,>=3.1.4 in /usr/local/lib/python3.6/dist-packages (from google-auth<2,>=1.6.3->tensorboard<2.2.0,>=2.1.0->tensorflow) (4.0)\n",
            "Requirement already satisfied, skipping upgrade: cachetools<3.2,>=2.0.0 in /usr/local/lib/python3.6/dist-packages (from google-auth<2,>=1.6.3->tensorboard<2.2.0,>=2.1.0->tensorflow) (3.1.1)\n",
            "Requirement already satisfied, skipping upgrade: requests-oauthlib>=0.7.0 in /usr/local/lib/python3.6/dist-packages (from google-auth-oauthlib<0.5,>=0.4.1->tensorboard<2.2.0,>=2.1.0->tensorflow) (1.3.0)\n",
            "Requirement already satisfied, skipping upgrade: pyasn1<0.5.0,>=0.4.6 in /usr/local/lib/python3.6/dist-packages (from pyasn1-modules>=0.2.1->google-auth<2,>=1.6.3->tensorboard<2.2.0,>=2.1.0->tensorflow) (0.4.8)\n",
            "Requirement already satisfied, skipping upgrade: oauthlib>=3.0.0 in /usr/local/lib/python3.6/dist-packages (from requests-oauthlib>=0.7.0->google-auth-oauthlib<0.5,>=0.4.1->tensorboard<2.2.0,>=2.1.0->tensorflow) (3.1.0)\n"
          ],
          "name": "stdout"
        }
      ]
    },
    {
      "cell_type": "code",
      "metadata": {
        "id": "BmQ6lDtU4FMI",
        "colab_type": "code",
        "colab": {}
      },
      "source": [
        "import tensorflow as tf\n",
        "import numpy as np\n",
        "import matplotlib.pyplot as plt\n",
        "from tensorflow.keras.datasets import reuters\n",
        "from tensorflow.keras import models, layers, utils, optimizers"
      ],
      "execution_count": 0,
      "outputs": []
    },
    {
      "cell_type": "code",
      "metadata": {
        "id": "Z1D4ZEPn4xT2",
        "colab_type": "code",
        "outputId": "f32d4dba-3691-4f78-d805-d079bef9dba1",
        "colab": {
          "base_uri": "https://localhost:8080/",
          "height": 50
        }
      },
      "source": [
        "(train_data, train_labels), (test_data, test_labels) = reuters.load_data(num_words = 10000)"
      ],
      "execution_count": 0,
      "outputs": [
        {
          "output_type": "stream",
          "text": [
            "Downloading data from https://storage.googleapis.com/tensorflow/tf-keras-datasets/reuters.npz\n",
            "2113536/2110848 [==============================] - 0s 0us/step\n"
          ],
          "name": "stdout"
        }
      ]
    },
    {
      "cell_type": "code",
      "metadata": {
        "id": "0F27NhbF5T-T",
        "colab_type": "code",
        "outputId": "b68cd2c3-5ff9-4b5d-eb82-9d7353f8b35d",
        "colab": {
          "base_uri": "https://localhost:8080/",
          "height": 50
        }
      },
      "source": [
        "print(len(train_data))\n",
        "print(len(test_data))"
      ],
      "execution_count": 0,
      "outputs": [
        {
          "output_type": "stream",
          "text": [
            "8982\n",
            "2246\n"
          ],
          "name": "stdout"
        }
      ]
    },
    {
      "cell_type": "code",
      "metadata": {
        "id": "8YHAs2x75cE4",
        "colab_type": "code",
        "colab": {}
      },
      "source": [
        "def vectorize_sequences(sequences, dimension=10000):\n",
        "  results = np.zeros((len(sequences), dimension))\n",
        "  for i, sequence in enumerate(sequences):\n",
        "    results[i, sequence] = 1\n",
        "  return results"
      ],
      "execution_count": 0,
      "outputs": []
    },
    {
      "cell_type": "code",
      "metadata": {
        "id": "642TOEaW6JYR",
        "colab_type": "code",
        "colab": {}
      },
      "source": [
        "x_train = vectorize_sequences(train_data)\n",
        "x_test = vectorize_sequences(test_data)"
      ],
      "execution_count": 0,
      "outputs": []
    },
    {
      "cell_type": "code",
      "metadata": {
        "id": "VR0RaxGv6bZF",
        "colab_type": "code",
        "colab": {}
      },
      "source": [
        "def one_hot_encode(labels, dimensions = 46):\n",
        "  results = np.zeros((len(labels), dimensions))\n",
        "  for i, label in enumerate(labels):\n",
        "    results[i, label] = 1\n",
        "  return results\n",
        "\n",
        "#or can use\n",
        "#one_hot_train_labels = utils.to_categorical(train_labels)\n",
        "#one_hot_test_labels = utils.to_categorical(test_labels)"
      ],
      "execution_count": 0,
      "outputs": []
    },
    {
      "cell_type": "code",
      "metadata": {
        "id": "9DBt5rPw9e2V",
        "colab_type": "code",
        "colab": {}
      },
      "source": [
        "one_hot_train_labels = one_hot_encode(train_labels)\n",
        "one_hot_test_labels = one_hot_encode(test_labels)"
      ],
      "execution_count": 0,
      "outputs": []
    },
    {
      "cell_type": "code",
      "metadata": {
        "id": "xQTdo4Ko9rxY",
        "colab_type": "code",
        "colab": {}
      },
      "source": [
        "x_val = x_train[:1000]\n",
        "partial_x_train = x_train[1000:]\n",
        "y_val = one_hot_train_labels[:1000]\n",
        "partial_y_train = one_hot_train_labels[1000:]"
      ],
      "execution_count": 0,
      "outputs": []
    },
    {
      "cell_type": "code",
      "metadata": {
        "id": "zsCSB8r_-lGk",
        "colab_type": "code",
        "colab": {}
      },
      "source": [
        "model = models.Sequential()\n",
        "model.add(layers.Dense(64, activation = 'relu', input_shape = (10000,)))\n",
        "model.add(layers.Dense(64, activation = 'relu'))\n",
        "model.add(layers.Dense(46, activation = 'softmax'))"
      ],
      "execution_count": 0,
      "outputs": []
    },
    {
      "cell_type": "code",
      "metadata": {
        "id": "kAiGSXzL_Pqh",
        "colab_type": "code",
        "outputId": "f4f55fa9-ef6b-4e3a-a94e-68105c661086",
        "colab": {
          "base_uri": "https://localhost:8080/",
          "height": 706
        }
      },
      "source": [
        "model.compile(optimizer='rmsprop', loss='categorical_crossentropy', metrics=['acc'])\n",
        "history = model.fit(partial_x_train, partial_y_train, epochs=20, batch_size=512, validation_data=(x_val, y_val))"
      ],
      "execution_count": 0,
      "outputs": [
        {
          "output_type": "stream",
          "text": [
            "Train on 7982 samples, validate on 1000 samples\n",
            "Epoch 1/20\n",
            "7982/7982 [==============================] - 2s 218us/sample - loss: 2.6330 - acc: 0.5055 - val_loss: 1.7484 - val_acc: 0.6240\n",
            "Epoch 2/20\n",
            "7982/7982 [==============================] - 1s 133us/sample - loss: 1.4402 - acc: 0.6982 - val_loss: 1.3257 - val_acc: 0.6990\n",
            "Epoch 3/20\n",
            "7982/7982 [==============================] - 1s 128us/sample - loss: 1.0738 - acc: 0.7704 - val_loss: 1.1573 - val_acc: 0.7430\n",
            "Epoch 4/20\n",
            "7982/7982 [==============================] - 1s 130us/sample - loss: 0.8569 - acc: 0.8160 - val_loss: 1.0514 - val_acc: 0.7770\n",
            "Epoch 5/20\n",
            "7982/7982 [==============================] - 1s 131us/sample - loss: 0.6893 - acc: 0.8567 - val_loss: 0.9996 - val_acc: 0.7920\n",
            "Epoch 6/20\n",
            "7982/7982 [==============================] - 1s 129us/sample - loss: 0.5553 - acc: 0.8851 - val_loss: 0.9580 - val_acc: 0.7980\n",
            "Epoch 7/20\n",
            "7982/7982 [==============================] - 1s 129us/sample - loss: 0.4517 - acc: 0.9059 - val_loss: 0.9112 - val_acc: 0.8110\n",
            "Epoch 8/20\n",
            "7982/7982 [==============================] - 1s 129us/sample - loss: 0.3708 - acc: 0.9194 - val_loss: 0.8958 - val_acc: 0.8210\n",
            "Epoch 9/20\n",
            "7982/7982 [==============================] - 1s 126us/sample - loss: 0.3067 - acc: 0.9330 - val_loss: 0.9349 - val_acc: 0.8080\n",
            "Epoch 10/20\n",
            "7982/7982 [==============================] - 1s 126us/sample - loss: 0.2591 - acc: 0.9434 - val_loss: 0.9505 - val_acc: 0.8100\n",
            "Epoch 11/20\n",
            "7982/7982 [==============================] - 1s 127us/sample - loss: 0.2203 - acc: 0.9483 - val_loss: 0.9266 - val_acc: 0.8120\n",
            "Epoch 12/20\n",
            "7982/7982 [==============================] - 1s 126us/sample - loss: 0.1960 - acc: 0.9495 - val_loss: 0.9796 - val_acc: 0.8030\n",
            "Epoch 13/20\n",
            "7982/7982 [==============================] - 1s 130us/sample - loss: 0.1721 - acc: 0.9536 - val_loss: 0.9730 - val_acc: 0.8050\n",
            "Epoch 14/20\n",
            "7982/7982 [==============================] - 1s 130us/sample - loss: 0.1554 - acc: 0.9538 - val_loss: 0.9930 - val_acc: 0.8050\n",
            "Epoch 15/20\n",
            "7982/7982 [==============================] - 1s 130us/sample - loss: 0.1462 - acc: 0.9555 - val_loss: 0.9791 - val_acc: 0.8150\n",
            "Epoch 16/20\n",
            "7982/7982 [==============================] - 1s 124us/sample - loss: 0.1352 - acc: 0.9557 - val_loss: 1.0000 - val_acc: 0.8160\n",
            "Epoch 17/20\n",
            "7982/7982 [==============================] - 1s 126us/sample - loss: 0.1258 - acc: 0.9568 - val_loss: 1.0616 - val_acc: 0.8030\n",
            "Epoch 18/20\n",
            "7982/7982 [==============================] - 1s 125us/sample - loss: 0.1228 - acc: 0.9577 - val_loss: 1.1184 - val_acc: 0.7910\n",
            "Epoch 19/20\n",
            "7982/7982 [==============================] - 1s 128us/sample - loss: 0.1166 - acc: 0.9575 - val_loss: 1.0953 - val_acc: 0.8030\n",
            "Epoch 20/20\n",
            "7982/7982 [==============================] - 1s 129us/sample - loss: 0.1127 - acc: 0.9559 - val_loss: 1.0958 - val_acc: 0.8000\n"
          ],
          "name": "stdout"
        }
      ]
    },
    {
      "cell_type": "code",
      "metadata": {
        "id": "BNxcYA02AOAu",
        "colab_type": "code",
        "outputId": "6111eec2-5a2d-427e-dde3-a0d158f8ab1c",
        "colab": {
          "base_uri": "https://localhost:8080/",
          "height": 573
        }
      },
      "source": [
        "history_dict = history.history\n",
        "loss_values = history_dict['loss']\n",
        "val_loss_values = history_dict['val_loss']\n",
        "epochs = range(1, len(loss_values) + 1)\n",
        "plt.plot(epochs, loss_values, 'bo', label = 'Training loss')\n",
        "plt.plot(epochs, val_loss_values, 'b', label = 'Validation loss')\n",
        "plt.title('Training and Validation Loss')\n",
        "plt.xlabel('epochs')\n",
        "plt.ylabel('loss')\n",
        "plt.legend()\n",
        "plt.show()\n",
        "plt.clf()\n",
        "\n",
        "acc_values = history_dict['acc']\n",
        "val_acc_values = history_dict['val_acc']\n",
        "plt.plot(epochs, acc_values, 'bo', label = 'Training Acc')\n",
        "plt.plot(epochs, val_acc_values, 'b', label = 'Validation Acc')\n",
        "plt.title('Training and Validation Acc')\n",
        "plt.xlabel('Epochs')\n",
        "plt.ylabel('Acc')\n",
        "plt.legend()\n",
        "plt.show()"
      ],
      "execution_count": 0,
      "outputs": [
        {
          "output_type": "display_data",
          "data": {
            "image/png": "[encoded data removed]",
            "text/plain": [
              "<Figure size 432x288 with 1 Axes>"
            ]
          },
          "metadata": {
            "tags": []
          }
        },
        {
          "output_type": "display_data",
          "data": {
            "image/png": "[encoded data removed]",
            "text/plain": [
              "<Figure size 432x288 with 1 Axes>"
            ]
          },
          "metadata": {
            "tags": []
          }
        }
      ]
    },
    {
      "cell_type": "code",
      "metadata": {
        "id": "ONcInDbXAXQS",
        "colab_type": "code",
        "colab": {}
      },
      "source": [
        "predictions = model.predict(x_test)"
      ],
      "execution_count": 0,
      "outputs": []
    },
    {
      "cell_type": "code",
      "metadata": {
        "id": "SwFfv1VSCVKl",
        "colab_type": "code",
        "outputId": "04374ed0-fe6c-46cd-85eb-bbcb0edde388",
        "colab": {
          "base_uri": "https://localhost:8080/",
          "height": 34
        }
      },
      "source": [
        "predictions.shape"
      ],
      "execution_count": 0,
      "outputs": [
        {
          "output_type": "execute_result",
          "data": {
            "text/plain": [
              "(2246, 46)"
            ]
          },
          "metadata": {
            "tags": []
          },
          "execution_count": 23
        }
      ]
    },
    {
      "cell_type": "code",
      "metadata": {
        "id": "UvQGmimgChvy",
        "colab_type": "code",
        "outputId": "fe7cf61d-6c62-4799-f1ed-e307b4ed8206",
        "colab": {
          "base_uri": "https://localhost:8080/",
          "height": 235
        }
      },
      "source": [
        "predictions"
      ],
      "execution_count": 0,
      "outputs": [
        {
          "output_type": "execute_result",
          "data": {
            "text/plain": [
              "array([[8.5102547e-06, 9.7118627e-06, 8.0781440e-08, ..., 2.0325590e-06,\n",
              "        8.3816317e-08, 3.4018287e-06],\n",
              "       [3.0083897e-06, 2.3175911e-04, 2.5723486e-06, ..., 3.3360902e-08,\n",
              "        1.9203818e-13, 2.7120253e-08],\n",
              "       [7.2630523e-03, 5.2053732e-01, 7.1047095e-04, ..., 7.7237742e-04,\n",
              "        1.6384439e-04, 6.1611575e-04],\n",
              "       ...,\n",
              "       [1.0797933e-06, 8.2698334e-06, 1.7899333e-07, ..., 2.1669887e-07,\n",
              "        3.6167543e-07, 8.0492282e-07],\n",
              "       [2.9198469e-03, 1.5284379e-01, 3.3238559e-04, ..., 7.6741126e-04,\n",
              "        5.9085556e-05, 2.8421855e-04],\n",
              "       [2.3717852e-04, 7.3881179e-01, 4.2382129e-03, ..., 2.4517224e-04,\n",
              "        2.8174685e-05, 2.8600791e-04]], dtype=float32)"
            ]
          },
          "metadata": {
            "tags": []
          },
          "execution_count": 25
        }
      ]
    },
    {
      "cell_type": "code",
      "metadata": {
        "id": "oXTexAO8CYpb",
        "colab_type": "code",
        "outputId": "ba69e71b-0c1e-42e6-e23c-5c15afcd19d3",
        "colab": {
          "base_uri": "https://localhost:8080/",
          "height": 34
        }
      },
      "source": [
        "predictions[1].sum()"
      ],
      "execution_count": 0,
      "outputs": [
        {
          "output_type": "execute_result",
          "data": {
            "text/plain": [
              "0.99999994"
            ]
          },
          "metadata": {
            "tags": []
          },
          "execution_count": 24
        }
      ]
    },
    {
      "cell_type": "code",
      "metadata": {
        "id": "EmVukxNnCdEc",
        "colab_type": "code",
        "outputId": "71d55041-cb4b-4a70-a48a-406a7cb7d49b",
        "colab": {
          "base_uri": "https://localhost:8080/",
          "height": 34
        }
      },
      "source": [
        "predictions[0].argmax()"
      ],
      "execution_count": 0,
      "outputs": [
        {
          "output_type": "execute_result",
          "data": {
            "text/plain": [
              "3"
            ]
          },
          "metadata": {
            "tags": []
          },
          "execution_count": 26
        }
      ]
    },
    {
      "cell_type": "markdown",
      "metadata": {
        "id": "nKXpEY5iC1RT",
        "colab_type": "text"
      },
      "source": [
        "**ALTERNATE APPROACH INSTEAD OF ONE_HOT_ENCODING**"
      ]
    },
    {
      "cell_type": "code",
      "metadata": {
        "id": "z0gO5zl2CvTZ",
        "colab_type": "code",
        "colab": {}
      },
      "source": [
        "y_train = np.array(train_labels)\n",
        "y_test = np.array(test_labels)"
      ],
      "execution_count": 0,
      "outputs": []
    },
    {
      "cell_type": "code",
      "metadata": {
        "id": "CmnGZhWYDJQA",
        "colab_type": "code",
        "outputId": "873bfd2c-e422-4d1a-e91c-ac696f1a251d",
        "colab": {
          "base_uri": "https://localhost:8080/",
          "height": 706
        }
      },
      "source": [
        "model.compile(optimizer='rmsprop', loss='sparse_categorical_crossentropy', metrics=['acc'])\n",
        "history = model.fit(x_train, y_train, epochs = 20, batch_size=512)"
      ],
      "execution_count": 0,
      "outputs": [
        {
          "output_type": "stream",
          "text": [
            "Train on 8982 samples\n",
            "Epoch 1/20\n",
            "8982/8982 [==============================] - 2s 186us/sample - loss: 0.2342 - acc: 0.9392\n",
            "Epoch 2/20\n",
            "8982/8982 [==============================] - 1s 117us/sample - loss: 0.1675 - acc: 0.9478\n",
            "Epoch 3/20\n",
            "8982/8982 [==============================] - 1s 114us/sample - loss: 0.1420 - acc: 0.9505\n",
            "Epoch 4/20\n",
            "8982/8982 [==============================] - 1s 111us/sample - loss: 0.1306 - acc: 0.9537\n",
            "Epoch 5/20\n",
            "8982/8982 [==============================] - 1s 113us/sample - loss: 0.1259 - acc: 0.9548\n",
            "Epoch 6/20\n",
            "8982/8982 [==============================] - 1s 111us/sample - loss: 0.1164 - acc: 0.9541\n",
            "Epoch 7/20\n",
            "8982/8982 [==============================] - 1s 113us/sample - loss: 0.1135 - acc: 0.9537\n",
            "Epoch 8/20\n",
            "8982/8982 [==============================] - 1s 118us/sample - loss: 0.1122 - acc: 0.9560\n",
            "Epoch 9/20\n",
            "8982/8982 [==============================] - 1s 120us/sample - loss: 0.1099 - acc: 0.9557\n",
            "Epoch 10/20\n",
            "8982/8982 [==============================] - 1s 115us/sample - loss: 0.1049 - acc: 0.9568\n",
            "Epoch 11/20\n",
            "8982/8982 [==============================] - 1s 119us/sample - loss: 0.1036 - acc: 0.9538\n",
            "Epoch 12/20\n",
            "8982/8982 [==============================] - 1s 118us/sample - loss: 0.1035 - acc: 0.9578\n",
            "Epoch 13/20\n",
            "8982/8982 [==============================] - 1s 119us/sample - loss: 0.1006 - acc: 0.9568\n",
            "Epoch 14/20\n",
            "8982/8982 [==============================] - 1s 118us/sample - loss: 0.0998 - acc: 0.9540\n",
            "Epoch 15/20\n",
            "8982/8982 [==============================] - 1s 119us/sample - loss: 0.0995 - acc: 0.9568\n",
            "Epoch 16/20\n",
            "8982/8982 [==============================] - 1s 118us/sample - loss: 0.0960 - acc: 0.9567\n",
            "Epoch 17/20\n",
            "8982/8982 [==============================] - 1s 117us/sample - loss: 0.0972 - acc: 0.9557\n",
            "Epoch 18/20\n",
            "8982/8982 [==============================] - 1s 117us/sample - loss: 0.0949 - acc: 0.9577\n",
            "Epoch 19/20\n",
            "8982/8982 [==============================] - 1s 116us/sample - loss: 0.0944 - acc: 0.9559\n",
            "Epoch 20/20\n",
            "8982/8982 [==============================] - 1s 111us/sample - loss: 0.0972 - acc: 0.9546\n"
          ],
          "name": "stdout"
        }
      ]
    },
    {
      "cell_type": "code",
      "metadata": {
        "id": "zAoWTt_7DsuC",
        "colab_type": "code",
        "colab": {}
      },
      "source": [
        "predictions = model.predict(x_test)"
      ],
      "execution_count": 0,
      "outputs": []
    },
    {
      "cell_type": "code",
      "metadata": {
        "id": "8npzm9l7DzJI",
        "colab_type": "code",
        "outputId": "89e4bead-901c-46e7-e144-d9979b166ad1",
        "colab": {
          "base_uri": "https://localhost:8080/",
          "height": 218
        }
      },
      "source": [
        "predictions[0]"
      ],
      "execution_count": 0,
      "outputs": [
        {
          "output_type": "execute_result",
          "data": {
            "text/plain": [
              "array([1.6169462e-07, 2.4190563e-06, 1.7917940e-11, 9.9297297e-01,\n",
              "       5.5293944e-03, 9.2727777e-11, 8.5180890e-12, 7.0095041e-08,\n",
              "       8.9214451e-04, 1.1135763e-06, 2.1051886e-08, 1.7390872e-04,\n",
              "       8.2858685e-07, 1.8557510e-06, 1.6421328e-08, 1.4549197e-10,\n",
              "       1.1387378e-04, 2.3832369e-07, 3.4304193e-08, 1.7489468e-04,\n",
              "       1.1661002e-04, 7.7365885e-06, 2.0673963e-10, 2.2119577e-06,\n",
              "       3.1517915e-09, 3.4204513e-07, 1.2696952e-11, 1.3226101e-08,\n",
              "       3.6019435e-06, 1.5400736e-09, 6.6507965e-08, 7.8012634e-13,\n",
              "       2.0658720e-07, 3.1395695e-09, 4.7901305e-09, 4.5598487e-08,\n",
              "       4.7999470e-06, 1.3078298e-08, 3.1462329e-07, 1.0957323e-07,\n",
              "       1.5505881e-08, 8.6488772e-09, 5.0043619e-10, 3.7825969e-09,\n",
              "       4.2934355e-13, 2.7497793e-10], dtype=float32)"
            ]
          },
          "metadata": {
            "tags": []
          },
          "execution_count": 30
        }
      ]
    },
    {
      "cell_type": "code",
      "metadata": {
        "id": "bVLXjoRID7iV",
        "colab_type": "code",
        "outputId": "7c1cccbf-3437-411c-a919-a9bba9d637c6",
        "colab": {
          "base_uri": "https://localhost:8080/",
          "height": 34
        }
      },
      "source": [
        "predictions.shape"
      ],
      "execution_count": 0,
      "outputs": [
        {
          "output_type": "execute_result",
          "data": {
            "text/plain": [
              "(2246, 46)"
            ]
          },
          "metadata": {
            "tags": []
          },
          "execution_count": 31
        }
      ]
    },
    {
      "cell_type": "code",
      "metadata": {
        "id": "-_sOVaL7D9Xw",
        "colab_type": "code",
        "outputId": "acbecbe2-a697-4afd-ff3e-1410eb9c1deb",
        "colab": {
          "base_uri": "https://localhost:8080/",
          "height": 34
        }
      },
      "source": [
        "predictions[1].argmax()"
      ],
      "execution_count": 0,
      "outputs": [
        {
          "output_type": "execute_result",
          "data": {
            "text/plain": [
              "10"
            ]
          },
          "metadata": {
            "tags": []
          },
          "execution_count": 34
        }
      ]
    },
    {
      "cell_type": "code",
      "metadata": {
        "id": "m6f2qma-ECoU",
        "colab_type": "code",
        "colab": {}
      },
      "source": [
        " "
      ],
      "execution_count": 0,
      "outputs": []
    }
  ]
}